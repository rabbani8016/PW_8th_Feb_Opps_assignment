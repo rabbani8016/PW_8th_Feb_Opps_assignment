{
 "cells": [
  {
   "cell_type": "markdown",
   "id": "985e4b5f-1993-4ea0-8a74-ad3331b31ebf",
   "metadata": {},
   "source": [
    "##### Q1. What is Abstraction in OOps? Explain with an example."
   ]
  },
  {
   "cell_type": "markdown",
   "id": "05c1ca6a-2feb-4003-92b1-17f906d19c1e",
   "metadata": {},
   "source": [
    "It involves hiding the implementation details of an object and exposing only the necessary functionalities to the outside world"
   ]
  },
  {
   "cell_type": "code",
   "execution_count": 2,
   "id": "e9849ac4-6074-4156-8a8b-3f2e59b4c924",
   "metadata": {},
   "outputs": [],
   "source": [
    "import abc\n",
    "class pwskills:\n",
    "    \n",
    "    @abc.abstractmethod\n",
    "    def student_details(self):\n",
    "        pass\n",
    "    \n",
    "    @abc.abstractmethod\n",
    "    def student_assignment(self):\n",
    "        pass\n",
    "    \n",
    "    @abc.abstractmethod\n",
    "    def student_marks(self):\n",
    "        pass"
   ]
  },
  {
   "cell_type": "code",
   "execution_count": 3,
   "id": "8bbe4db3-7d33-4e9a-95d0-6d12d4e1d6c6",
   "metadata": {},
   "outputs": [],
   "source": [
    "class student_details(pwskills):\n",
    "    \n",
    "    def student_details(self):\n",
    "        return \"this is the method for taking student details\"\n",
    "    \n",
    "    def student_assignment(self):\n",
    "        return \"this is the method for assing details for perticualt student\""
   ]
  },
  {
   "cell_type": "code",
   "execution_count": 4,
   "id": "3634b6c5-81c3-45ed-aa67-bb6e007111cd",
   "metadata": {},
   "outputs": [],
   "source": [
    "class data_science_masters(pwskills):\n",
    "    \n",
    "    def student_details(self):\n",
    "        return \"this will return a student details for data science masters\"\n",
    "    \n",
    "    def student_assignment(self):\n",
    "        return \"this will give you a student assignment details for data science masters\""
   ]
  },
  {
   "cell_type": "code",
   "execution_count": 5,
   "id": "4953008d-c07a-4a4a-9b2e-0f63654987c6",
   "metadata": {},
   "outputs": [
    {
     "data": {
      "text/plain": [
       "'this will return a student details for data science masters'"
      ]
     },
     "execution_count": 5,
     "metadata": {},
     "output_type": "execute_result"
    }
   ],
   "source": [
    "dms = data_science_masters()\n",
    "dms.student_details()"
   ]
  },
  {
   "cell_type": "code",
   "execution_count": 6,
   "id": "06dbaf92-9282-45cd-ad77-58ce2de73af8",
   "metadata": {},
   "outputs": [
    {
     "data": {
      "text/plain": [
       "'this is the method for taking student details'"
      ]
     },
     "execution_count": 6,
     "metadata": {},
     "output_type": "execute_result"
    }
   ],
   "source": [
    "sd = student_details()\n",
    "sd.student_details()"
   ]
  },
  {
   "cell_type": "markdown",
   "id": "fe83c3d3-1b50-4a5b-8551-cc9ba19867c1",
   "metadata": {},
   "source": [
    "##### Q2. Differentiate between Abstraction and Encapsulation. Explain with an example."
   ]
  },
  {
   "cell_type": "markdown",
   "id": "72e83432-d9fa-4b5f-b002-e90e79a1f4e3",
   "metadata": {},
   "source": [
    "Abstraction is the concept of hiding the complex implementation details and showing only the essential features of an object."
   ]
  },
  {
   "cell_type": "code",
   "execution_count": 7,
   "id": "9317015c-754e-4572-a01c-ae3fd9f5ce32",
   "metadata": {},
   "outputs": [],
   "source": [
    "class Shape:\n",
    "    def draw(self):\n",
    "        pass\n",
    "\n",
    "class Circle(Shape):\n",
    "    def draw(self):\n",
    "        print(\"Drawing a circle\")\n",
    "\n",
    "class Square(Shape):\n",
    "    def draw(self):\n",
    "        print(\"Drawing a square\")"
   ]
  },
  {
   "cell_type": "markdown",
   "id": "809844fd-5da4-4d06-9be0-c529bc442bca",
   "metadata": {},
   "source": [
    "In this example, the Shape class defines an abstraction for any shape with a draw method. The Circle and Square classes then provide concrete implementations for drawing specific shapes. Users of these classes interact with the abstraction (Shape) without needing to know the details of how each shape is drawn."
   ]
  },
  {
   "cell_type": "code",
   "execution_count": 8,
   "id": "1bc915bf-7cef-4325-bda0-375c3a0f8fa7",
   "metadata": {},
   "outputs": [],
   "source": [
    "# encapsulation\n"
   ]
  },
  {
   "cell_type": "markdown",
   "id": "4b396eae-ed0b-4aab-bfa0-c59069633922",
   "metadata": {},
   "source": [
    "Encapsulation is the bundling of data (attributes) and the methods that operate on the data into a single unit, i.e., a class. It restricts direct access to some of the object's components and can prevent the accidental modification of the object's state."
   ]
  },
  {
   "cell_type": "code",
   "execution_count": 9,
   "id": "65cd25bc-c778-4afb-8e40-4fc758ad5cff",
   "metadata": {},
   "outputs": [],
   "source": [
    "class BankAccount:\n",
    "    def __init__(self, balance):\n",
    "        self._balance = balance  # Encapsulation - hiding the internal state\n",
    "\n",
    "    def deposit(self, amount):\n",
    "        self._balance += amount\n",
    "\n",
    "    def withdraw(self, amount):\n",
    "        if amount <= self._balance:\n",
    "            self._balance -= amount\n",
    "        else:\n",
    "            print(\"Insufficient funds\")\n",
    "\n",
    "    def get_balance(self):\n",
    "        return self._balance\n"
   ]
  },
  {
   "cell_type": "markdown",
   "id": "27d67aa3-3461-44f1-9170-58909327ad88",
   "metadata": {},
   "source": [
    "In this example, the BankAccount class encapsulates the balance attribute and provides methods (deposit, withdraw, and get_balance) to interact with the object. The internal state (_balance) is encapsulated, and direct access to it is prevented. Users of the BankAccount class can only interact with the object through its public methods, ensuring controlled access to the data."
   ]
  },
  {
   "cell_type": "markdown",
   "id": "63906637-4b49-4600-a3af-382cf8a0da30",
   "metadata": {},
   "source": [
    "##### Q3. What is abc module in python? Why is it used?"
   ]
  },
  {
   "cell_type": "markdown",
   "id": "97524730-58d7-4c65-bc6f-b14878445ca0",
   "metadata": {},
   "source": [
    "abc module in Python is for creating abstract classes and interfaces. It enforces the implementation of certain methods in subclasses using the ABC class and abstractmethod decorator. This helps in creating a structured and maintainable codebase."
   ]
  },
  {
   "cell_type": "code",
   "execution_count": 10,
   "id": "4b7e6528-4c94-4e7a-b70d-c842516fbac1",
   "metadata": {},
   "outputs": [],
   "source": [
    "from abc import ABC, abstractmethod\n",
    "\n",
    "class Shape(ABC):\n",
    "    @abstractmethod\n",
    "    def area(self):\n",
    "        pass\n",
    "\n",
    "class Circle(Shape):\n",
    "    def __init__(self, radius):\n",
    "        self.radius = radius\n",
    "\n",
    "    def area(self):\n",
    "        return 3.14 * self.radius * self.radius\n",
    "\n",
    "class Square(Shape):\n",
    "    def __init__(self, side):\n",
    "        self.side = side\n",
    "\n",
    "    def area(self):\n",
    "        return self.side * self.side"
   ]
  },
  {
   "cell_type": "code",
   "execution_count": null,
   "id": "22356152-6703-4981-b6d4-6bd765eb6d14",
   "metadata": {},
   "outputs": [],
   "source": []
  },
  {
   "cell_type": "code",
   "execution_count": null,
   "id": "7e4e30c1-231b-403d-a6fc-bae0925580a6",
   "metadata": {},
   "outputs": [],
   "source": []
  },
  {
   "cell_type": "markdown",
   "id": "d2f74353-6d9a-416c-a089-1a54206885a7",
   "metadata": {},
   "source": [
    "##### Q4. How can we achieve data abstraction?"
   ]
  },
  {
   "cell_type": "markdown",
   "id": "ccbf2b54-0ad6-4862-ba8c-79faea213378",
   "metadata": {},
   "source": [
    "To achieve data abstraction:\n",
    "\n",
    "1. Create an Abstract Class or Interface:\n",
    "Define an abstract class or interface with method signatures representing essential features.\n",
    "\n",
    "2. Implement Concrete Classes:\n",
    "Create concrete classes that inherit from the abstract class or implement the interface.\n",
    "Provide concrete implementations for the abstract methods.\n",
    "\n",
    "3. Instantiate and Use Objects:\n",
    "Instantiate objects of the concrete classes.\n",
    "Interact with objects using abstract method calls, without needing to know their internal details."
   ]
  },
  {
   "cell_type": "code",
   "execution_count": 13,
   "id": "acf57b52-a509-4ea4-9ba8-2289cb850e8f",
   "metadata": {},
   "outputs": [],
   "source": [
    "from abc import ABC, abstractmethod\n",
    "\n",
    "class Shape(ABC):\n",
    "    @abstractmethod\n",
    "    def calculate_area(self):\n",
    "        pass\n",
    "\n",
    "class Circle(Shape):\n",
    "    def calculate_area(self):\n",
    "        pass\n",
    "\n",
    "class Square(Shape):\n",
    "    def calculate_area(self):\n",
    "        pass\n",
    "\n",
    "circle = Circle()\n",
    "square = Square()\n",
    "\n",
    "area_circle = circle.calculate_area()  # Uses abstract method\n",
    "area_square = square.calculate_area()  # Uses abstract method\n"
   ]
  },
  {
   "cell_type": "code",
   "execution_count": null,
   "id": "a1b061d2-2c8e-46bc-8a1f-9a544f1420ca",
   "metadata": {},
   "outputs": [],
   "source": []
  },
  {
   "cell_type": "markdown",
   "id": "2b8ff37b-798d-4f08-8611-8164cb6ac4bb",
   "metadata": {},
   "source": [
    "##### Q5. Can we create an instance of an abstract class? Explain your answer"
   ]
  },
  {
   "cell_type": "markdown",
   "id": "be38206a-e1dc-40e2-8af5-c15250bde01c",
   "metadata": {},
   "source": [
    "No, we cannot create an instance of an abstract class in most object-oriented programming languages, including Python. The purpose of an abstract class is to serve as a blueprint for other classes"
   ]
  },
  {
   "cell_type": "code",
   "execution_count": 14,
   "id": "b65127b5-23c3-4713-a390-a70204647858",
   "metadata": {},
   "outputs": [
    {
     "ename": "TypeError",
     "evalue": "Can't instantiate abstract class MyAbstractClass with abstract method abstract_method",
     "output_type": "error",
     "traceback": [
      "\u001b[0;31m---------------------------------------------------------------------------\u001b[0m",
      "\u001b[0;31mTypeError\u001b[0m                                 Traceback (most recent call last)",
      "Cell \u001b[0;32mIn[14], line 9\u001b[0m\n\u001b[1;32m      6\u001b[0m         \u001b[38;5;28;01mpass\u001b[39;00m\n\u001b[1;32m      8\u001b[0m \u001b[38;5;66;03m# Attempting to create an instance of MyAbstractClass\u001b[39;00m\n\u001b[0;32m----> 9\u001b[0m my_instance \u001b[38;5;241m=\u001b[39m \u001b[43mMyAbstractClass\u001b[49m\u001b[43m(\u001b[49m\u001b[43m)\u001b[49m  \u001b[38;5;66;03m# This will raise a TypeError\u001b[39;00m\n",
      "\u001b[0;31mTypeError\u001b[0m: Can't instantiate abstract class MyAbstractClass with abstract method abstract_method"
     ]
    }
   ],
   "source": [
    "from abc import ABC, abstractmethod\n",
    "\n",
    "class MyAbstractClass(ABC):\n",
    "    @abstractmethod\n",
    "    def abstract_method(self):\n",
    "        pass\n",
    "\n",
    "# Attempting to create an instance of MyAbstractClass\n",
    "my_instance = MyAbstractClass()  # This will raise a TypeError"
   ]
  },
  {
   "cell_type": "code",
   "execution_count": null,
   "id": "891e19a5-65cd-4b18-b4b4-848565f42de8",
   "metadata": {},
   "outputs": [],
   "source": []
  }
 ],
 "metadata": {
  "kernelspec": {
   "display_name": "Python 3 (ipykernel)",
   "language": "python",
   "name": "python3"
  },
  "language_info": {
   "codemirror_mode": {
    "name": "ipython",
    "version": 3
   },
   "file_extension": ".py",
   "mimetype": "text/x-python",
   "name": "python",
   "nbconvert_exporter": "python",
   "pygments_lexer": "ipython3",
   "version": "3.10.8"
  }
 },
 "nbformat": 4,
 "nbformat_minor": 5
}
